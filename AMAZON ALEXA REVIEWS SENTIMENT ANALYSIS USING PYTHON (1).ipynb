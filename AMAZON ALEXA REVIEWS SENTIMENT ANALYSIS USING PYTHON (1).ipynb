{
 "cells": [
  {
   "cell_type": "code",
   "execution_count": 7,
   "id": "83b25a7b",
   "metadata": {},
   "outputs": [],
   "source": [
    "import pandas as pd\n",
    "import seaborn as sns\n",
    "import matplotlib.pyplot as plt\n",
    "\n"
   ]
  },
  {
   "cell_type": "markdown",
   "id": "18fa7942",
   "metadata": {},
   "source": []
  },
  {
   "cell_type": "code",
   "execution_count": 8,
   "id": "acba198f",
   "metadata": {},
   "outputs": [
    {
     "name": "stdout",
     "output_type": "stream",
     "text": [
      "      rating       date         variation  \\\n",
      "0          5  31-Jul-18  Charcoal Fabric    \n",
      "1          5  31-Jul-18  Charcoal Fabric    \n",
      "2          4  31-Jul-18    Walnut Finish    \n",
      "3          5  31-Jul-18  Charcoal Fabric    \n",
      "4          5  31-Jul-18  Charcoal Fabric    \n",
      "...      ...        ...               ...   \n",
      "3145       5  30-Jul-18        Black  Dot   \n",
      "3146       5  30-Jul-18        Black  Dot   \n",
      "3147       5  30-Jul-18        Black  Dot   \n",
      "3148       5  30-Jul-18        White  Dot   \n",
      "3149       4  29-Jul-18        Black  Dot   \n",
      "\n",
      "                                       verified_reviews  feedback  \n",
      "0                                         Love my Echo!         1  \n",
      "1                                             Loved it!         1  \n",
      "2     Sometimes while playing a game, you can answer...         1  \n",
      "3     I have had a lot of fun with this thing. My 4 ...         1  \n",
      "4                                                 Music         1  \n",
      "...                                                 ...       ...  \n",
      "3145  Perfect for kids, adults and everyone in betwe...         1  \n",
      "3146  Listening to music, searching locations, check...         1  \n",
      "3147  I do love these things, i have them running my...         1  \n",
      "3148  Only complaint I have is that the sound qualit...         1  \n",
      "3149                                               Good         1  \n",
      "\n",
      "[3150 rows x 5 columns]\n"
     ]
    }
   ],
   "source": [
    "df = pd.read_csv('output.csv') #read the csv file\n",
    "print(df)"
   ]
  },
  {
   "cell_type": "markdown",
   "id": "920b3c92",
   "metadata": {},
   "source": [
    "## We can come to a conclusion the full CSV File"
   ]
  },
  {
   "cell_type": "code",
   "execution_count": 9,
   "id": "30a319d9",
   "metadata": {},
   "outputs": [
    {
     "name": "stdout",
     "output_type": "stream",
     "text": [
      "<bound method NDFrame.describe of       rating       date         variation  \\\n",
      "0          5  31-Jul-18  Charcoal Fabric    \n",
      "1          5  31-Jul-18  Charcoal Fabric    \n",
      "2          4  31-Jul-18    Walnut Finish    \n",
      "3          5  31-Jul-18  Charcoal Fabric    \n",
      "4          5  31-Jul-18  Charcoal Fabric    \n",
      "...      ...        ...               ...   \n",
      "3145       5  30-Jul-18        Black  Dot   \n",
      "3146       5  30-Jul-18        Black  Dot   \n",
      "3147       5  30-Jul-18        Black  Dot   \n",
      "3148       5  30-Jul-18        White  Dot   \n",
      "3149       4  29-Jul-18        Black  Dot   \n",
      "\n",
      "                                       verified_reviews  feedback  \n",
      "0                                         Love my Echo!         1  \n",
      "1                                             Loved it!         1  \n",
      "2     Sometimes while playing a game, you can answer...         1  \n",
      "3     I have had a lot of fun with this thing. My 4 ...         1  \n",
      "4                                                 Music         1  \n",
      "...                                                 ...       ...  \n",
      "3145  Perfect for kids, adults and everyone in betwe...         1  \n",
      "3146  Listening to music, searching locations, check...         1  \n",
      "3147  I do love these things, i have them running my...         1  \n",
      "3148  Only complaint I have is that the sound qualit...         1  \n",
      "3149                                               Good         1  \n",
      "\n",
      "[3150 rows x 5 columns]>\n"
     ]
    }
   ],
   "source": [
    "print(df.describe)"
   ]
  },
  {
   "cell_type": "markdown",
   "id": "387e3ee6",
   "metadata": {},
   "source": [
    "# We can come to a conclusion that describe of amazon alexa backup in csv file"
   ]
  },
  {
   "cell_type": "code",
   "execution_count": 10,
   "id": "6a6b8307",
   "metadata": {},
   "outputs": [
    {
     "name": "stdout",
     "output_type": "stream",
     "text": [
      "   rating       date         variation  \\\n",
      "0       5  31-Jul-18  Charcoal Fabric    \n",
      "1       5  31-Jul-18  Charcoal Fabric    \n",
      "2       4  31-Jul-18    Walnut Finish    \n",
      "3       5  31-Jul-18  Charcoal Fabric    \n",
      "4       5  31-Jul-18  Charcoal Fabric    \n",
      "\n",
      "                                    verified_reviews  feedback  \n",
      "0                                      Love my Echo!         1  \n",
      "1                                          Loved it!         1  \n",
      "2  Sometimes while playing a game, you can answer...         1  \n",
      "3  I have had a lot of fun with this thing. My 4 ...         1  \n",
      "4                                              Music         1  \n"
     ]
    }
   ],
   "source": [
    "print(df.head())#first five rows from the dataset"
   ]
  },
  {
   "cell_type": "markdown",
   "id": "d48f7a15",
   "metadata": {},
   "source": [
    "## We can come to a conclusion that from first it take 10 data from CSV File"
   ]
  },
  {
   "cell_type": "code",
   "execution_count": 11,
   "id": "aa0fe0fe",
   "metadata": {},
   "outputs": [
    {
     "name": "stdout",
     "output_type": "stream",
     "text": [
      "(3150, 5)\n"
     ]
    }
   ],
   "source": [
    "print(df.shape)#number of rows and columns"
   ]
  },
  {
   "cell_type": "markdown",
   "id": "b5ca0d98",
   "metadata": {},
   "source": [
    "## We can come to a conclusion that in csv file how many rows and columns are their in CSV file"
   ]
  },
  {
   "cell_type": "code",
   "execution_count": 12,
   "id": "e202148d",
   "metadata": {},
   "outputs": [
    {
     "name": "stdout",
     "output_type": "stream",
     "text": [
      "Index(['rating', 'date', 'variation', 'verified_reviews', 'feedback'], dtype='object')\n"
     ]
    }
   ],
   "source": [
    "print(df.columns)#displays the column names from the dataset"
   ]
  },
  {
   "cell_type": "markdown",
   "id": "fa832624",
   "metadata": {},
   "source": [
    "# We can come to a conclusion that in CSV File the column"
   ]
  },
  {
   "cell_type": "code",
   "execution_count": 13,
   "id": "f3d6e46b",
   "metadata": {},
   "outputs": [
    {
     "name": "stdout",
     "output_type": "stream",
     "text": [
      "rating               int64\n",
      "date                object\n",
      "variation           object\n",
      "verified_reviews    object\n",
      "feedback             int64\n",
      "dtype: object\n"
     ]
    }
   ],
   "source": [
    "print(df.dtypes)#print the datatypes of each columns"
   ]
  },
  {
   "cell_type": "markdown",
   "id": "34b46681",
   "metadata": {},
   "source": [
    "## We can come to a conclusion that in CSV File that what type of datatype in this file"
   ]
  },
  {
   "cell_type": "code",
   "execution_count": 14,
   "id": "804614cb",
   "metadata": {},
   "outputs": [
    {
     "name": "stdout",
     "output_type": "stream",
     "text": [
      "<class 'pandas.core.frame.DataFrame'>\n",
      "RangeIndex: 3150 entries, 0 to 3149\n",
      "Data columns (total 5 columns):\n",
      " #   Column            Non-Null Count  Dtype \n",
      "---  ------            --------------  ----- \n",
      " 0   rating            3150 non-null   int64 \n",
      " 1   date              3150 non-null   object\n",
      " 2   variation         3150 non-null   object\n",
      " 3   verified_reviews  3149 non-null   object\n",
      " 4   feedback          3150 non-null   int64 \n",
      "dtypes: int64(2), object(3)\n",
      "memory usage: 123.2+ KB\n"
     ]
    }
   ],
   "source": [
    "df.info()# to get more information about your data"
   ]
  },
  {
   "cell_type": "markdown",
   "id": "c2c18eaf",
   "metadata": {},
   "source": [
    "## We can come to a conclusion that in CSV File that it give full information about the file"
   ]
  },
  {
   "cell_type": "code",
   "execution_count": 15,
   "id": "939cbbbc",
   "metadata": {},
   "outputs": [
    {
     "name": "stdout",
     "output_type": "stream",
     "text": [
      "      rating       date   variation  \\\n",
      "3140       4  30-Jul-18  White  Dot   \n",
      "3141       3  30-Jul-18  Black  Dot   \n",
      "3142       4  30-Jul-18  White  Dot   \n",
      "3143       5  30-Jul-18  Black  Dot   \n",
      "3144       5  30-Jul-18  Black  Dot   \n",
      "3145       5  30-Jul-18  Black  Dot   \n",
      "3146       5  30-Jul-18  Black  Dot   \n",
      "3147       5  30-Jul-18  Black  Dot   \n",
      "3148       5  30-Jul-18  White  Dot   \n",
      "3149       4  29-Jul-18  Black  Dot   \n",
      "\n",
      "                                       verified_reviews  feedback  \n",
      "3140                                              Barry         1  \n",
      "3141                                                            1  \n",
      "3142  My three year old loves it.  Good for doing ba...         1  \n",
      "3143         Awesome device wish I bought one ages ago.         1  \n",
      "3144                                            love it         1  \n",
      "3145  Perfect for kids, adults and everyone in betwe...         1  \n",
      "3146  Listening to music, searching locations, check...         1  \n",
      "3147  I do love these things, i have them running my...         1  \n",
      "3148  Only complaint I have is that the sound qualit...         1  \n",
      "3149                                               Good         1  \n"
     ]
    }
   ],
   "source": [
    "print(df.tail(n=10))# get the last row"
   ]
  },
  {
   "cell_type": "markdown",
   "id": "57bd24d2",
   "metadata": {},
   "source": [
    "# We can come to a conclusion that from last it take 10 data from CSV File"
   ]
  },
  {
   "cell_type": "code",
   "execution_count": 16,
   "id": "2c671f43",
   "metadata": {},
   "outputs": [
    {
     "name": "stdout",
     "output_type": "stream",
     "text": [
      "      rating   date  variation  verified_reviews  feedback\n",
      "0      False  False      False             False     False\n",
      "1      False  False      False             False     False\n",
      "2      False  False      False             False     False\n",
      "3      False  False      False             False     False\n",
      "4      False  False      False             False     False\n",
      "...      ...    ...        ...               ...       ...\n",
      "3145   False  False      False             False     False\n",
      "3146   False  False      False             False     False\n",
      "3147   False  False      False             False     False\n",
      "3148   False  False      False             False     False\n",
      "3149   False  False      False             False     False\n",
      "\n",
      "[3150 rows x 5 columns]\n"
     ]
    }
   ],
   "source": [
    "print(df.isnull())"
   ]
  },
  {
   "cell_type": "code",
   "execution_count": 17,
   "id": "95eca69c",
   "metadata": {},
   "outputs": [
    {
     "data": {
      "text/plain": [
       "rating              0\n",
       "date                0\n",
       "variation           0\n",
       "verified_reviews    1\n",
       "feedback            0\n",
       "dtype: int64"
      ]
     },
     "execution_count": 17,
     "metadata": {},
     "output_type": "execute_result"
    }
   ],
   "source": [
    "df.isnull().sum()#in only verified_reviews i have only one null value"
   ]
  },
  {
   "cell_type": "code",
   "execution_count": 18,
   "id": "bf9e2a1c",
   "metadata": {},
   "outputs": [
    {
     "data": {
      "text/plain": [
       "rating              0\n",
       "date                0\n",
       "variation           0\n",
       "verified_reviews    1\n",
       "feedback            0\n",
       "dtype: int64"
      ]
     },
     "execution_count": 18,
     "metadata": {},
     "output_type": "execute_result"
    }
   ],
   "source": [
    "df.isna().sum()"
   ]
  },
  {
   "cell_type": "code",
   "execution_count": 19,
   "id": "3deeccff",
   "metadata": {},
   "outputs": [
    {
     "data": {
      "text/plain": [
       "rating              False\n",
       "date                False\n",
       "variation           False\n",
       "verified_reviews     True\n",
       "feedback            False\n",
       "dtype: bool"
      ]
     },
     "execution_count": 19,
     "metadata": {},
     "output_type": "execute_result"
    }
   ],
   "source": [
    "#use .any() function to get concise info\n",
    "df.isna().any()"
   ]
  },
  {
   "cell_type": "code",
   "execution_count": 20,
   "id": "10811f34",
   "metadata": {},
   "outputs": [
    {
     "data": {
      "text/html": [
       "<div>\n",
       "<style scoped>\n",
       "    .dataframe tbody tr th:only-of-type {\n",
       "        vertical-align: middle;\n",
       "    }\n",
       "\n",
       "    .dataframe tbody tr th {\n",
       "        vertical-align: top;\n",
       "    }\n",
       "\n",
       "    .dataframe thead th {\n",
       "        text-align: right;\n",
       "    }\n",
       "</style>\n",
       "<table border=\"1\" class=\"dataframe\">\n",
       "  <thead>\n",
       "    <tr style=\"text-align: right;\">\n",
       "      <th></th>\n",
       "      <th>rating</th>\n",
       "      <th>date</th>\n",
       "      <th>variation</th>\n",
       "      <th>verified_reviews</th>\n",
       "      <th>feedback</th>\n",
       "    </tr>\n",
       "  </thead>\n",
       "  <tbody>\n",
       "    <tr>\n",
       "      <th>0</th>\n",
       "      <td>False</td>\n",
       "      <td>False</td>\n",
       "      <td>False</td>\n",
       "      <td>False</td>\n",
       "      <td>False</td>\n",
       "    </tr>\n",
       "    <tr>\n",
       "      <th>1</th>\n",
       "      <td>False</td>\n",
       "      <td>False</td>\n",
       "      <td>False</td>\n",
       "      <td>False</td>\n",
       "      <td>False</td>\n",
       "    </tr>\n",
       "    <tr>\n",
       "      <th>2</th>\n",
       "      <td>False</td>\n",
       "      <td>False</td>\n",
       "      <td>False</td>\n",
       "      <td>False</td>\n",
       "      <td>False</td>\n",
       "    </tr>\n",
       "    <tr>\n",
       "      <th>3</th>\n",
       "      <td>False</td>\n",
       "      <td>False</td>\n",
       "      <td>False</td>\n",
       "      <td>False</td>\n",
       "      <td>False</td>\n",
       "    </tr>\n",
       "    <tr>\n",
       "      <th>4</th>\n",
       "      <td>False</td>\n",
       "      <td>False</td>\n",
       "      <td>False</td>\n",
       "      <td>False</td>\n",
       "      <td>False</td>\n",
       "    </tr>\n",
       "    <tr>\n",
       "      <th>...</th>\n",
       "      <td>...</td>\n",
       "      <td>...</td>\n",
       "      <td>...</td>\n",
       "      <td>...</td>\n",
       "      <td>...</td>\n",
       "    </tr>\n",
       "    <tr>\n",
       "      <th>3145</th>\n",
       "      <td>False</td>\n",
       "      <td>False</td>\n",
       "      <td>False</td>\n",
       "      <td>False</td>\n",
       "      <td>False</td>\n",
       "    </tr>\n",
       "    <tr>\n",
       "      <th>3146</th>\n",
       "      <td>False</td>\n",
       "      <td>False</td>\n",
       "      <td>False</td>\n",
       "      <td>False</td>\n",
       "      <td>False</td>\n",
       "    </tr>\n",
       "    <tr>\n",
       "      <th>3147</th>\n",
       "      <td>False</td>\n",
       "      <td>False</td>\n",
       "      <td>False</td>\n",
       "      <td>False</td>\n",
       "      <td>False</td>\n",
       "    </tr>\n",
       "    <tr>\n",
       "      <th>3148</th>\n",
       "      <td>False</td>\n",
       "      <td>False</td>\n",
       "      <td>False</td>\n",
       "      <td>False</td>\n",
       "      <td>False</td>\n",
       "    </tr>\n",
       "    <tr>\n",
       "      <th>3149</th>\n",
       "      <td>False</td>\n",
       "      <td>False</td>\n",
       "      <td>False</td>\n",
       "      <td>False</td>\n",
       "      <td>False</td>\n",
       "    </tr>\n",
       "  </tbody>\n",
       "</table>\n",
       "<p>3150 rows × 5 columns</p>\n",
       "</div>"
      ],
      "text/plain": [
       "      rating   date  variation  verified_reviews  feedback\n",
       "0      False  False      False             False     False\n",
       "1      False  False      False             False     False\n",
       "2      False  False      False             False     False\n",
       "3      False  False      False             False     False\n",
       "4      False  False      False             False     False\n",
       "...      ...    ...        ...               ...       ...\n",
       "3145   False  False      False             False     False\n",
       "3146   False  False      False             False     False\n",
       "3147   False  False      False             False     False\n",
       "3148   False  False      False             False     False\n",
       "3149   False  False      False             False     False\n",
       "\n",
       "[3150 rows x 5 columns]"
      ]
     },
     "execution_count": 20,
     "metadata": {},
     "output_type": "execute_result"
    }
   ],
   "source": [
    "#. isna()detects missing values\n",
    "df.isna()"
   ]
  },
  {
   "cell_type": "code",
   "execution_count": 21,
   "id": "6e03be56",
   "metadata": {},
   "outputs": [
    {
     "data": {
      "text/plain": [
       "array([[5, '31-Jul-18', 'Charcoal Fabric ', 'Love my Echo!', 1],\n",
       "       [5, '31-Jul-18', 'Charcoal Fabric ', 'Loved it!', 1],\n",
       "       [4, '31-Jul-18', 'Walnut Finish ',\n",
       "        'Sometimes while playing a game, you can answer a question correctly but Alexa says you got it wrong and answers the same as you.  I like being able to turn lights on and off while away from home.',\n",
       "        1],\n",
       "       ...,\n",
       "       [5, '30-Jul-18', 'Black  Dot',\n",
       "        'I do love these things, i have them running my entire home, TV, all my lights, my thermostat, my front door dead bolt, the cameras... and i love listening to npr. these things are well worth the value and they really shine once you stat adding smart devices and you can control your entire home like its right out of star trek.... I named mine computer to get the feel... but its amazing what you can do with these devices and smart systems.',\n",
       "        1],\n",
       "       [5, '30-Jul-18', 'White  Dot',\n",
       "        \"Only complaint I have is that the sound quality isn't great. I mostly use it for commands though, and I have another dot hooked up to my stereo system to play music through. I have a couple friends that have a dot and don't mind the audio quality, but if you're bothered by that kind of thing I'd go with the full size echo or make sure you hook the do up to some larger speakers.\",\n",
       "        1],\n",
       "       [4, '29-Jul-18', 'Black  Dot', 'Good', 1]], dtype=object)"
      ]
     },
     "execution_count": 21,
     "metadata": {},
     "output_type": "execute_result"
    }
   ],
   "source": [
    "df.values# values atttributes returns a numpy representation of the given DataFrame"
   ]
  },
  {
   "cell_type": "markdown",
   "id": "6e3007bb",
   "metadata": {},
   "source": []
  },
  {
   "cell_type": "code",
   "execution_count": null,
   "id": "e865179a",
   "metadata": {},
   "outputs": [],
   "source": []
  },
  {
   "cell_type": "markdown",
   "id": "f8dcd030",
   "metadata": {},
   "source": []
  },
  {
   "cell_type": "markdown",
   "id": "1ac49cef",
   "metadata": {},
   "source": [
    "# Q.What is rating given by customer of amazon alexa?"
   ]
  },
  {
   "cell_type": "code",
   "execution_count": 22,
   "id": "96b588f2",
   "metadata": {},
   "outputs": [
    {
     "name": "stdout",
     "output_type": "stream",
     "text": [
      "             date         variation  \\\n",
      "rating                                \n",
      "5       31-Jul-18  Charcoal Fabric    \n",
      "5       31-Jul-18  Charcoal Fabric    \n",
      "4       31-Jul-18    Walnut Finish    \n",
      "5       31-Jul-18  Charcoal Fabric    \n",
      "5       31-Jul-18  Charcoal Fabric    \n",
      "...           ...               ...   \n",
      "5       30-Jul-18        Black  Dot   \n",
      "5       30-Jul-18        Black  Dot   \n",
      "5       30-Jul-18        Black  Dot   \n",
      "5       30-Jul-18        White  Dot   \n",
      "4       29-Jul-18        Black  Dot   \n",
      "\n",
      "                                         verified_reviews  feedback  \n",
      "rating                                                               \n",
      "5                                           Love my Echo!         1  \n",
      "5                                               Loved it!         1  \n",
      "4       Sometimes while playing a game, you can answer...         1  \n",
      "5       I have had a lot of fun with this thing. My 4 ...         1  \n",
      "5                                                   Music         1  \n",
      "...                                                   ...       ...  \n",
      "5       Perfect for kids, adults and everyone in betwe...         1  \n",
      "5       Listening to music, searching locations, check...         1  \n",
      "5       I do love these things, i have them running my...         1  \n",
      "5       Only complaint I have is that the sound qualit...         1  \n",
      "4                                                    Good         1  \n",
      "\n",
      "[3150 rows x 4 columns]\n"
     ]
    }
   ],
   "source": [
    "df1 = pd.read_csv('output.csv', index_col=0, na_values=[\"??\",\"????\"])\n",
    "print(df1)"
   ]
  },
  {
   "cell_type": "markdown",
   "id": "7d4dc6a7",
   "metadata": {},
   "source": [
    "# We can come to a conclusion boolean same-sized object indicating if the values are NA. NA values, such as None or numpy.NaN, gets mapped to True values. Everything else gets mapped to False values."
   ]
  },
  {
   "cell_type": "markdown",
   "id": "a19e576d",
   "metadata": {},
   "source": [
    "# Q. What was the review of  customer think about amazon alexa?"
   ]
  },
  {
   "cell_type": "code",
   "execution_count": 23,
   "id": "d7700aa9",
   "metadata": {
    "scrolled": true
   },
   "outputs": [
    {
     "data": {
      "image/png": "[encoded data removed]",
      "text/plain": [
       "<Figure size 500x500 with 1 Axes>"
      ]
     },
     "metadata": {},
     "output_type": "display_data"
    }
   ],
   "source": [
    "ratings = df[\"rating\"].value_counts()\n",
    "numbers = ratings.index\n",
    "quantity = ratings.values\n",
    "\n",
    "custom_colors = [\"skyblue\", \"yellowgreen\", 'tomato', \"blue\", \"red\"]\n",
    "plt.figure(figsize=(5, 5))\n",
    "plt.pie(quantity, labels=numbers, colors=custom_colors)\n",
    "central_circle = plt.Circle((0, 0), 0.5, color='white')\n",
    "fig = plt.gcf()\n",
    "fig.gca().add_artist(central_circle)\n",
    "plt.rc('font', size=12)\n",
    "plt.title(\"Amazon Alexa Reviews\", fontsize=20)\n",
    "plt.show()\n",
    "fig.savefig('pie chart.png')"
   ]
  },
  {
   "cell_type": "code",
   "execution_count": null,
   "id": "2da61109",
   "metadata": {},
   "outputs": [],
   "source": []
  },
  {
   "cell_type": "markdown",
   "id": "015ac789",
   "metadata": {},
   "source": [
    "# Q.Decriptions of variance\n"
   ]
  },
  {
   "cell_type": "code",
   "execution_count": 24,
   "id": "997ab25e",
   "metadata": {},
   "outputs": [
    {
     "name": "stdout",
     "output_type": "stream",
     "text": [
      "6.666666666666667\n",
      "69.10204081632652\n"
     ]
    }
   ],
   "source": [
    "import numpy as np\n",
    " \n",
    "print(np.var([1,9,5,6,8,7]))\n",
    "print(np.var([4,-11,-5,16,5,7,9]))"
   ]
  },
  {
   "cell_type": "code",
   "execution_count": 25,
   "id": "cdf540aa",
   "metadata": {},
   "outputs": [
    {
     "data": {
      "text/html": [
       "<div>\n",
       "<style scoped>\n",
       "    .dataframe tbody tr th:only-of-type {\n",
       "        vertical-align: middle;\n",
       "    }\n",
       "\n",
       "    .dataframe tbody tr th {\n",
       "        vertical-align: top;\n",
       "    }\n",
       "\n",
       "    .dataframe thead tr th {\n",
       "        text-align: left;\n",
       "    }\n",
       "\n",
       "    .dataframe thead tr:last-of-type th {\n",
       "        text-align: right;\n",
       "    }\n",
       "</style>\n",
       "<table border=\"1\" class=\"dataframe\">\n",
       "  <thead>\n",
       "    <tr>\n",
       "      <th></th>\n",
       "      <th colspan=\"8\" halign=\"left\">rating</th>\n",
       "      <th colspan=\"8\" halign=\"left\">feedback</th>\n",
       "    </tr>\n",
       "    <tr>\n",
       "      <th></th>\n",
       "      <th>count</th>\n",
       "      <th>mean</th>\n",
       "      <th>std</th>\n",
       "      <th>min</th>\n",
       "      <th>25%</th>\n",
       "      <th>50%</th>\n",
       "      <th>75%</th>\n",
       "      <th>max</th>\n",
       "      <th>count</th>\n",
       "      <th>mean</th>\n",
       "      <th>std</th>\n",
       "      <th>min</th>\n",
       "      <th>25%</th>\n",
       "      <th>50%</th>\n",
       "      <th>75%</th>\n",
       "      <th>max</th>\n",
       "    </tr>\n",
       "    <tr>\n",
       "      <th>variation</th>\n",
       "      <th></th>\n",
       "      <th></th>\n",
       "      <th></th>\n",
       "      <th></th>\n",
       "      <th></th>\n",
       "      <th></th>\n",
       "      <th></th>\n",
       "      <th></th>\n",
       "      <th></th>\n",
       "      <th></th>\n",
       "      <th></th>\n",
       "      <th></th>\n",
       "      <th></th>\n",
       "      <th></th>\n",
       "      <th></th>\n",
       "      <th></th>\n",
       "    </tr>\n",
       "  </thead>\n",
       "  <tbody>\n",
       "    <tr>\n",
       "      <th>Black</th>\n",
       "      <td>261.0</td>\n",
       "      <td>4.233716</td>\n",
       "      <td>1.339838</td>\n",
       "      <td>1.0</td>\n",
       "      <td>4.0</td>\n",
       "      <td>5.0</td>\n",
       "      <td>5.0</td>\n",
       "      <td>5.0</td>\n",
       "      <td>261.0</td>\n",
       "      <td>0.865900</td>\n",
       "      <td>0.341414</td>\n",
       "      <td>0.0</td>\n",
       "      <td>1.0</td>\n",
       "      <td>1.0</td>\n",
       "      <td>1.0</td>\n",
       "      <td>1.0</td>\n",
       "    </tr>\n",
       "    <tr>\n",
       "      <th>Black  Dot</th>\n",
       "      <td>516.0</td>\n",
       "      <td>4.453488</td>\n",
       "      <td>1.027660</td>\n",
       "      <td>1.0</td>\n",
       "      <td>4.0</td>\n",
       "      <td>5.0</td>\n",
       "      <td>5.0</td>\n",
       "      <td>5.0</td>\n",
       "      <td>516.0</td>\n",
       "      <td>0.930233</td>\n",
       "      <td>0.255002</td>\n",
       "      <td>0.0</td>\n",
       "      <td>1.0</td>\n",
       "      <td>1.0</td>\n",
       "      <td>1.0</td>\n",
       "      <td>1.0</td>\n",
       "    </tr>\n",
       "    <tr>\n",
       "      <th>Black  Plus</th>\n",
       "      <td>270.0</td>\n",
       "      <td>4.370370</td>\n",
       "      <td>1.158391</td>\n",
       "      <td>1.0</td>\n",
       "      <td>4.0</td>\n",
       "      <td>5.0</td>\n",
       "      <td>5.0</td>\n",
       "      <td>5.0</td>\n",
       "      <td>270.0</td>\n",
       "      <td>0.896296</td>\n",
       "      <td>0.305442</td>\n",
       "      <td>0.0</td>\n",
       "      <td>1.0</td>\n",
       "      <td>1.0</td>\n",
       "      <td>1.0</td>\n",
       "      <td>1.0</td>\n",
       "    </tr>\n",
       "    <tr>\n",
       "      <th>Black  Show</th>\n",
       "      <td>265.0</td>\n",
       "      <td>4.490566</td>\n",
       "      <td>0.996635</td>\n",
       "      <td>1.0</td>\n",
       "      <td>4.0</td>\n",
       "      <td>5.0</td>\n",
       "      <td>5.0</td>\n",
       "      <td>5.0</td>\n",
       "      <td>265.0</td>\n",
       "      <td>0.932075</td>\n",
       "      <td>0.252092</td>\n",
       "      <td>0.0</td>\n",
       "      <td>1.0</td>\n",
       "      <td>1.0</td>\n",
       "      <td>1.0</td>\n",
       "      <td>1.0</td>\n",
       "    </tr>\n",
       "    <tr>\n",
       "      <th>Black  Spot</th>\n",
       "      <td>241.0</td>\n",
       "      <td>4.311203</td>\n",
       "      <td>1.247764</td>\n",
       "      <td>1.0</td>\n",
       "      <td>4.0</td>\n",
       "      <td>5.0</td>\n",
       "      <td>5.0</td>\n",
       "      <td>5.0</td>\n",
       "      <td>241.0</td>\n",
       "      <td>0.867220</td>\n",
       "      <td>0.340043</td>\n",
       "      <td>0.0</td>\n",
       "      <td>1.0</td>\n",
       "      <td>1.0</td>\n",
       "      <td>1.0</td>\n",
       "      <td>1.0</td>\n",
       "    </tr>\n",
       "    <tr>\n",
       "      <th>Charcoal Fabric</th>\n",
       "      <td>430.0</td>\n",
       "      <td>4.730233</td>\n",
       "      <td>0.683994</td>\n",
       "      <td>1.0</td>\n",
       "      <td>5.0</td>\n",
       "      <td>5.0</td>\n",
       "      <td>5.0</td>\n",
       "      <td>5.0</td>\n",
       "      <td>430.0</td>\n",
       "      <td>0.972093</td>\n",
       "      <td>0.164898</td>\n",
       "      <td>0.0</td>\n",
       "      <td>1.0</td>\n",
       "      <td>1.0</td>\n",
       "      <td>1.0</td>\n",
       "      <td>1.0</td>\n",
       "    </tr>\n",
       "    <tr>\n",
       "      <th>Configuration: Fire TV Stick</th>\n",
       "      <td>350.0</td>\n",
       "      <td>4.591429</td>\n",
       "      <td>0.990751</td>\n",
       "      <td>1.0</td>\n",
       "      <td>5.0</td>\n",
       "      <td>5.0</td>\n",
       "      <td>5.0</td>\n",
       "      <td>5.0</td>\n",
       "      <td>350.0</td>\n",
       "      <td>0.920000</td>\n",
       "      <td>0.271682</td>\n",
       "      <td>0.0</td>\n",
       "      <td>1.0</td>\n",
       "      <td>1.0</td>\n",
       "      <td>1.0</td>\n",
       "      <td>1.0</td>\n",
       "    </tr>\n",
       "    <tr>\n",
       "      <th>Heather Gray Fabric</th>\n",
       "      <td>157.0</td>\n",
       "      <td>4.694268</td>\n",
       "      <td>0.647108</td>\n",
       "      <td>2.0</td>\n",
       "      <td>5.0</td>\n",
       "      <td>5.0</td>\n",
       "      <td>5.0</td>\n",
       "      <td>5.0</td>\n",
       "      <td>157.0</td>\n",
       "      <td>0.987261</td>\n",
       "      <td>0.112504</td>\n",
       "      <td>0.0</td>\n",
       "      <td>1.0</td>\n",
       "      <td>1.0</td>\n",
       "      <td>1.0</td>\n",
       "      <td>1.0</td>\n",
       "    </tr>\n",
       "    <tr>\n",
       "      <th>Oak Finish</th>\n",
       "      <td>14.0</td>\n",
       "      <td>4.857143</td>\n",
       "      <td>0.363137</td>\n",
       "      <td>4.0</td>\n",
       "      <td>5.0</td>\n",
       "      <td>5.0</td>\n",
       "      <td>5.0</td>\n",
       "      <td>5.0</td>\n",
       "      <td>14.0</td>\n",
       "      <td>1.000000</td>\n",
       "      <td>0.000000</td>\n",
       "      <td>1.0</td>\n",
       "      <td>1.0</td>\n",
       "      <td>1.0</td>\n",
       "      <td>1.0</td>\n",
       "      <td>1.0</td>\n",
       "    </tr>\n",
       "    <tr>\n",
       "      <th>Sandstone Fabric</th>\n",
       "      <td>90.0</td>\n",
       "      <td>4.355556</td>\n",
       "      <td>0.997875</td>\n",
       "      <td>1.0</td>\n",
       "      <td>4.0</td>\n",
       "      <td>5.0</td>\n",
       "      <td>5.0</td>\n",
       "      <td>5.0</td>\n",
       "      <td>90.0</td>\n",
       "      <td>0.933333</td>\n",
       "      <td>0.250841</td>\n",
       "      <td>0.0</td>\n",
       "      <td>1.0</td>\n",
       "      <td>1.0</td>\n",
       "      <td>1.0</td>\n",
       "      <td>1.0</td>\n",
       "    </tr>\n",
       "    <tr>\n",
       "      <th>Walnut Finish</th>\n",
       "      <td>9.0</td>\n",
       "      <td>4.888889</td>\n",
       "      <td>0.333333</td>\n",
       "      <td>4.0</td>\n",
       "      <td>5.0</td>\n",
       "      <td>5.0</td>\n",
       "      <td>5.0</td>\n",
       "      <td>5.0</td>\n",
       "      <td>9.0</td>\n",
       "      <td>1.000000</td>\n",
       "      <td>0.000000</td>\n",
       "      <td>1.0</td>\n",
       "      <td>1.0</td>\n",
       "      <td>1.0</td>\n",
       "      <td>1.0</td>\n",
       "      <td>1.0</td>\n",
       "    </tr>\n",
       "    <tr>\n",
       "      <th>White</th>\n",
       "      <td>91.0</td>\n",
       "      <td>4.142857</td>\n",
       "      <td>1.464934</td>\n",
       "      <td>1.0</td>\n",
       "      <td>4.0</td>\n",
       "      <td>5.0</td>\n",
       "      <td>5.0</td>\n",
       "      <td>5.0</td>\n",
       "      <td>91.0</td>\n",
       "      <td>0.813187</td>\n",
       "      <td>0.391921</td>\n",
       "      <td>0.0</td>\n",
       "      <td>1.0</td>\n",
       "      <td>1.0</td>\n",
       "      <td>1.0</td>\n",
       "      <td>1.0</td>\n",
       "    </tr>\n",
       "    <tr>\n",
       "      <th>White  Dot</th>\n",
       "      <td>184.0</td>\n",
       "      <td>4.423913</td>\n",
       "      <td>1.047857</td>\n",
       "      <td>1.0</td>\n",
       "      <td>4.0</td>\n",
       "      <td>5.0</td>\n",
       "      <td>5.0</td>\n",
       "      <td>5.0</td>\n",
       "      <td>184.0</td>\n",
       "      <td>0.934783</td>\n",
       "      <td>0.247583</td>\n",
       "      <td>0.0</td>\n",
       "      <td>1.0</td>\n",
       "      <td>1.0</td>\n",
       "      <td>1.0</td>\n",
       "      <td>1.0</td>\n",
       "    </tr>\n",
       "    <tr>\n",
       "      <th>White  Plus</th>\n",
       "      <td>78.0</td>\n",
       "      <td>4.358974</td>\n",
       "      <td>1.184032</td>\n",
       "      <td>1.0</td>\n",
       "      <td>4.0</td>\n",
       "      <td>5.0</td>\n",
       "      <td>5.0</td>\n",
       "      <td>5.0</td>\n",
       "      <td>78.0</td>\n",
       "      <td>0.897436</td>\n",
       "      <td>0.305352</td>\n",
       "      <td>0.0</td>\n",
       "      <td>1.0</td>\n",
       "      <td>1.0</td>\n",
       "      <td>1.0</td>\n",
       "      <td>1.0</td>\n",
       "    </tr>\n",
       "    <tr>\n",
       "      <th>White  Show</th>\n",
       "      <td>85.0</td>\n",
       "      <td>4.282353</td>\n",
       "      <td>1.278129</td>\n",
       "      <td>1.0</td>\n",
       "      <td>4.0</td>\n",
       "      <td>5.0</td>\n",
       "      <td>5.0</td>\n",
       "      <td>5.0</td>\n",
       "      <td>85.0</td>\n",
       "      <td>0.870588</td>\n",
       "      <td>0.337647</td>\n",
       "      <td>0.0</td>\n",
       "      <td>1.0</td>\n",
       "      <td>1.0</td>\n",
       "      <td>1.0</td>\n",
       "      <td>1.0</td>\n",
       "    </tr>\n",
       "    <tr>\n",
       "      <th>White  Spot</th>\n",
       "      <td>109.0</td>\n",
       "      <td>4.311927</td>\n",
       "      <td>1.222454</td>\n",
       "      <td>1.0</td>\n",
       "      <td>4.0</td>\n",
       "      <td>5.0</td>\n",
       "      <td>5.0</td>\n",
       "      <td>5.0</td>\n",
       "      <td>109.0</td>\n",
       "      <td>0.889908</td>\n",
       "      <td>0.314450</td>\n",
       "      <td>0.0</td>\n",
       "      <td>1.0</td>\n",
       "      <td>1.0</td>\n",
       "      <td>1.0</td>\n",
       "      <td>1.0</td>\n",
       "    </tr>\n",
       "  </tbody>\n",
       "</table>\n",
       "</div>"
      ],
      "text/plain": [
       "                             rating                                          \\\n",
       "                              count      mean       std  min  25%  50%  75%   \n",
       "variation                                                                     \n",
       "Black                         261.0  4.233716  1.339838  1.0  4.0  5.0  5.0   \n",
       "Black  Dot                    516.0  4.453488  1.027660  1.0  4.0  5.0  5.0   \n",
       "Black  Plus                   270.0  4.370370  1.158391  1.0  4.0  5.0  5.0   \n",
       "Black  Show                   265.0  4.490566  0.996635  1.0  4.0  5.0  5.0   \n",
       "Black  Spot                   241.0  4.311203  1.247764  1.0  4.0  5.0  5.0   \n",
       "Charcoal Fabric               430.0  4.730233  0.683994  1.0  5.0  5.0  5.0   \n",
       "Configuration: Fire TV Stick  350.0  4.591429  0.990751  1.0  5.0  5.0  5.0   \n",
       "Heather Gray Fabric           157.0  4.694268  0.647108  2.0  5.0  5.0  5.0   \n",
       "Oak Finish                     14.0  4.857143  0.363137  4.0  5.0  5.0  5.0   \n",
       "Sandstone Fabric               90.0  4.355556  0.997875  1.0  4.0  5.0  5.0   \n",
       "Walnut Finish                   9.0  4.888889  0.333333  4.0  5.0  5.0  5.0   \n",
       "White                          91.0  4.142857  1.464934  1.0  4.0  5.0  5.0   \n",
       "White  Dot                    184.0  4.423913  1.047857  1.0  4.0  5.0  5.0   \n",
       "White  Plus                    78.0  4.358974  1.184032  1.0  4.0  5.0  5.0   \n",
       "White  Show                    85.0  4.282353  1.278129  1.0  4.0  5.0  5.0   \n",
       "White  Spot                   109.0  4.311927  1.222454  1.0  4.0  5.0  5.0   \n",
       "\n",
       "                                  feedback                                     \\\n",
       "                              max    count      mean       std  min  25%  50%   \n",
       "variation                                                                       \n",
       "Black                         5.0    261.0  0.865900  0.341414  0.0  1.0  1.0   \n",
       "Black  Dot                    5.0    516.0  0.930233  0.255002  0.0  1.0  1.0   \n",
       "Black  Plus                   5.0    270.0  0.896296  0.305442  0.0  1.0  1.0   \n",
       "Black  Show                   5.0    265.0  0.932075  0.252092  0.0  1.0  1.0   \n",
       "Black  Spot                   5.0    241.0  0.867220  0.340043  0.0  1.0  1.0   \n",
       "Charcoal Fabric               5.0    430.0  0.972093  0.164898  0.0  1.0  1.0   \n",
       "Configuration: Fire TV Stick  5.0    350.0  0.920000  0.271682  0.0  1.0  1.0   \n",
       "Heather Gray Fabric           5.0    157.0  0.987261  0.112504  0.0  1.0  1.0   \n",
       "Oak Finish                    5.0     14.0  1.000000  0.000000  1.0  1.0  1.0   \n",
       "Sandstone Fabric              5.0     90.0  0.933333  0.250841  0.0  1.0  1.0   \n",
       "Walnut Finish                 5.0      9.0  1.000000  0.000000  1.0  1.0  1.0   \n",
       "White                         5.0     91.0  0.813187  0.391921  0.0  1.0  1.0   \n",
       "White  Dot                    5.0    184.0  0.934783  0.247583  0.0  1.0  1.0   \n",
       "White  Plus                   5.0     78.0  0.897436  0.305352  0.0  1.0  1.0   \n",
       "White  Show                   5.0     85.0  0.870588  0.337647  0.0  1.0  1.0   \n",
       "White  Spot                   5.0    109.0  0.889908  0.314450  0.0  1.0  1.0   \n",
       "\n",
       "                                        \n",
       "                              75%  max  \n",
       "variation                               \n",
       "Black                         1.0  1.0  \n",
       "Black  Dot                    1.0  1.0  \n",
       "Black  Plus                   1.0  1.0  \n",
       "Black  Show                   1.0  1.0  \n",
       "Black  Spot                   1.0  1.0  \n",
       "Charcoal Fabric               1.0  1.0  \n",
       "Configuration: Fire TV Stick  1.0  1.0  \n",
       "Heather Gray Fabric           1.0  1.0  \n",
       "Oak Finish                    1.0  1.0  \n",
       "Sandstone Fabric              1.0  1.0  \n",
       "Walnut Finish                 1.0  1.0  \n",
       "White                         1.0  1.0  \n",
       "White  Dot                    1.0  1.0  \n",
       "White  Plus                   1.0  1.0  \n",
       "White  Show                   1.0  1.0  \n",
       "White  Spot                   1.0  1.0  "
      ]
     },
     "execution_count": 25,
     "metadata": {},
     "output_type": "execute_result"
    }
   ],
   "source": [
    "#Describe data according to variation\n",
    "df.groupby('variation').describe()"
   ]
  },
  {
   "cell_type": "code",
   "execution_count": 26,
   "id": "14f6a313",
   "metadata": {},
   "outputs": [
    {
     "data": {
      "text/plain": [
       "<Axes: >"
      ]
     },
     "execution_count": 26,
     "metadata": {},
     "output_type": "execute_result"
    },
    {
     "data": {
      "image/png": "[encoded data removed]",
      "text/plain": [
       "<Figure size 640x480 with 1 Axes>"
      ]
     },
     "metadata": {},
     "output_type": "display_data"
    }
   ],
   "source": [
    "df['rating'].hist()"
   ]
  },
  {
   "cell_type": "code",
   "execution_count": 49,
   "id": "368825ae",
   "metadata": {},
   "outputs": [
    {
     "data": {
      "text/plain": [
       "<Axes: >"
      ]
     },
     "execution_count": 49,
     "metadata": {},
     "output_type": "execute_result"
    },
    {
     "data": {
      "image/png": "[encoded data removed]",
      "text/plain": [
       "<Figure size 640x480 with 1 Axes>"
      ]
     },
     "metadata": {},
     "output_type": "display_data"
    }
   ],
   "source": [
    "df['feedback'].hist()"
   ]
  },
  {
   "cell_type": "code",
   "execution_count": 51,
   "id": "334161b3",
   "metadata": {},
   "outputs": [
    {
     "data": {
      "text/plain": [
       "<Axes: >"
      ]
     },
     "execution_count": 51,
     "metadata": {},
     "output_type": "execute_result"
    },
    {
     "data": {
      "image/png": "[encoded data removed]",
      "text/plain": [
       "<Figure size 640x480 with 1 Axes>"
      ]
     },
     "metadata": {},
     "output_type": "display_data"
    }
   ],
   "source": [
    "df['variation'].hist()"
   ]
  },
  {
   "cell_type": "code",
   "execution_count": 60,
   "id": "50529fdf",
   "metadata": {},
   "outputs": [
    {
     "data": {
      "text/html": [
       "<div>\n",
       "<style scoped>\n",
       "    .dataframe tbody tr th:only-of-type {\n",
       "        vertical-align: middle;\n",
       "    }\n",
       "\n",
       "    .dataframe tbody tr th {\n",
       "        vertical-align: top;\n",
       "    }\n",
       "\n",
       "    .dataframe thead th {\n",
       "        text-align: right;\n",
       "    }\n",
       "</style>\n",
       "<table border=\"1\" class=\"dataframe\">\n",
       "  <thead>\n",
       "    <tr style=\"text-align: right;\">\n",
       "      <th></th>\n",
       "      <th>date</th>\n",
       "      <th>variation</th>\n",
       "      <th>verified_reviews</th>\n",
       "      <th>feedback</th>\n",
       "    </tr>\n",
       "    <tr>\n",
       "      <th>rating</th>\n",
       "      <th></th>\n",
       "      <th></th>\n",
       "      <th></th>\n",
       "      <th></th>\n",
       "    </tr>\n",
       "  </thead>\n",
       "  <tbody>\n",
       "    <tr>\n",
       "      <th>2</th>\n",
       "      <td>29-Jun-18</td>\n",
       "      <td>White</td>\n",
       "      <td>NaN</td>\n",
       "      <td>0</td>\n",
       "    </tr>\n",
       "  </tbody>\n",
       "</table>\n",
       "</div>"
      ],
      "text/plain": [
       "             date variation verified_reviews  feedback\n",
       "rating                                                \n",
       "2       29-Jun-18     White              NaN         0"
      ]
     },
     "execution_count": 60,
     "metadata": {},
     "output_type": "execute_result"
    }
   ],
   "source": [
    "amazon_backup = df1.copy()\n",
    "missing_amazon_data = amazon_backup[amazon_backup.isnull().any(axis=1)]\n",
    "missing_amazon_data"
   ]
  },
  {
   "cell_type": "code",
   "execution_count": 61,
   "id": "e75de9d6",
   "metadata": {},
   "outputs": [
    {
     "data": {
      "text/html": [
       "<div>\n",
       "<style scoped>\n",
       "    .dataframe tbody tr th:only-of-type {\n",
       "        vertical-align: middle;\n",
       "    }\n",
       "\n",
       "    .dataframe tbody tr th {\n",
       "        vertical-align: top;\n",
       "    }\n",
       "\n",
       "    .dataframe thead th {\n",
       "        text-align: right;\n",
       "    }\n",
       "</style>\n",
       "<table border=\"1\" class=\"dataframe\">\n",
       "  <thead>\n",
       "    <tr style=\"text-align: right;\">\n",
       "      <th></th>\n",
       "      <th>feedback</th>\n",
       "    </tr>\n",
       "  </thead>\n",
       "  <tbody>\n",
       "    <tr>\n",
       "      <th>count</th>\n",
       "      <td>3150.000000</td>\n",
       "    </tr>\n",
       "    <tr>\n",
       "      <th>mean</th>\n",
       "      <td>0.918413</td>\n",
       "    </tr>\n",
       "    <tr>\n",
       "      <th>std</th>\n",
       "      <td>0.273778</td>\n",
       "    </tr>\n",
       "    <tr>\n",
       "      <th>min</th>\n",
       "      <td>0.000000</td>\n",
       "    </tr>\n",
       "    <tr>\n",
       "      <th>25%</th>\n",
       "      <td>1.000000</td>\n",
       "    </tr>\n",
       "    <tr>\n",
       "      <th>50%</th>\n",
       "      <td>1.000000</td>\n",
       "    </tr>\n",
       "    <tr>\n",
       "      <th>75%</th>\n",
       "      <td>1.000000</td>\n",
       "    </tr>\n",
       "    <tr>\n",
       "      <th>max</th>\n",
       "      <td>1.000000</td>\n",
       "    </tr>\n",
       "  </tbody>\n",
       "</table>\n",
       "</div>"
      ],
      "text/plain": [
       "          feedback\n",
       "count  3150.000000\n",
       "mean      0.918413\n",
       "std       0.273778\n",
       "min       0.000000\n",
       "25%       1.000000\n",
       "50%       1.000000\n",
       "75%       1.000000\n",
       "max       1.000000"
      ]
     },
     "execution_count": 61,
     "metadata": {},
     "output_type": "execute_result"
    }
   ],
   "source": [
    "amazon_backup.describe()"
   ]
  },
  {
   "cell_type": "markdown",
   "id": "8f35e234",
   "metadata": {},
   "source": [
    "# We can come to a conclusion that describe of water backup in csv file"
   ]
  },
  {
   "cell_type": "code",
   "execution_count": null,
   "id": "603aec4f",
   "metadata": {},
   "outputs": [],
   "source": []
  }
 ],
 "metadata": {
  "kernelspec": {
   "display_name": "Python 3 (ipykernel)",
   "language": "python",
   "name": "python3"
  },
  "language_info": {
   "codemirror_mode": {
    "name": "ipython",
    "version": 3
   },
   "file_extension": ".py",
   "mimetype": "text/x-python",
   "name": "python",
   "nbconvert_exporter": "python",
   "pygments_lexer": "ipython3",
   "version": "3.11.4"
  }
 },
 "nbformat": 4,
 "nbformat_minor": 5
}
